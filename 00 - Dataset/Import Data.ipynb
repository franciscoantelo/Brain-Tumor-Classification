{
 "cells": [
  {
   "cell_type": "code",
   "execution_count": 1,
   "metadata": {},
   "outputs": [],
   "source": [
    "import kaggle\n",
    "\n",
    "# Replace 'dataset-owner/dataset-name' with the actual dataset path\n",
    "dataset_path = 'masoudnickparvar/brain-tumor-mri-dataset'\n",
    "\n",
    "# Download the dataset\n",
    "kaggle.api.dataset_download_files(dataset_path, path='.', unzip=True)\n"
   ]
  },
  {
   "cell_type": "code",
   "execution_count": 2,
   "metadata": {},
   "outputs": [],
   "source": [
    "# General Libraries:\n",
    "import os\n",
    "import cv2\n",
    "import numpy as np\n",
    "\n",
    "# Libraries for Data Vizualization:\n",
    "import matplotlib.pyplot as plt\n"
   ]
  },
  {
   "cell_type": "code",
   "execution_count": 3,
   "metadata": {},
   "outputs": [],
   "source": [
    "# Create a function to load the data:\n",
    "\n",
    "def load_images(base_path):\n",
    "    images = []\n",
    "    labels = []\n",
    "    for folder in os.listdir(base_path):\n",
    "        folder_path = os.path.join(base_path, folder)\n",
    "        if os.path.isdir(folder_path):\n",
    "            label = folder.lower()\n",
    "            for subfolder in os.listdir(folder_path):\n",
    "                subfolder_path = os.path.join(folder_path, subfolder)\n",
    "                if os.path.isdir(subfolder_path):\n",
    "                    for filename in os.listdir(subfolder_path):\n",
    "                        img_path = os.path.join(subfolder_path, filename)\n",
    "                        img = cv2.imread(img_path)\n",
    "                        img = cv2.cvtColor(img, cv2.COLOR_BGR2RGB)  # Convert BGR to RGB\n",
    "                        images.append(img)\n",
    "                        labels.append(label)\n",
    "    return np.array(images), np.array(labels)"
   ]
  },
  {
   "cell_type": "code",
   "execution_count": 6,
   "metadata": {},
   "outputs": [],
   "source": [
    "dataset_path_local = r'C:\\Users\\fante\\Desktop\\Brain-Tumor-Classification\\00 - Dataset'\n",
    "\n",
    "\n",
    "# Load training images and labels\n",
    "train_images, train_labels = load_images(os.path.join(dataset_path_local, 'Training'))\n",
    "# Load testing images and labels\n",
    "test_images, test_labels = load_images(os.path.join(dataset_path_local, 'Testing'))"
   ]
  },
  {
   "cell_type": "code",
   "execution_count": null,
   "metadata": {},
   "outputs": [],
   "source": []
  }
 ],
 "metadata": {
  "kernelspec": {
   "display_name": "base",
   "language": "python",
   "name": "python3"
  },
  "language_info": {
   "codemirror_mode": {
    "name": "ipython",
    "version": 3
   },
   "file_extension": ".py",
   "mimetype": "text/x-python",
   "name": "python",
   "nbconvert_exporter": "python",
   "pygments_lexer": "ipython3",
   "version": "3.8.8"
  },
  "orig_nbformat": 4,
  "vscode": {
   "interpreter": {
    "hash": "ad2bdc8ecc057115af97d19610ffacc2b4e99fae6737bb82f5d7fb13d2f2c186"
   }
  }
 },
 "nbformat": 4,
 "nbformat_minor": 2
}
